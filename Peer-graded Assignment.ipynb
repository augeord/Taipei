{
    "cells": [
        {
            "cell_type": "markdown",
            "metadata": {},
            "source": "# Housing Sales Prices & Venues Data Analysis of Taipei City\n## A. Introduction\n### A.1. Description & Discussion of the Background\nTaipei is the 40th most-populous urban area in the world\u2014roughly one-third of Taiwanese citizens live in the metro district.  Taipei city is home to an estimated population of **2,646,204** (2019). Taipei City is divided up into 12 administrative districts. I have been living in Taipei city for 10 years and had good experience there, then I decided to use Taipei City in my project. Taipei City is an enclave of the municipality of New Taipei City that limits cover an area of **271.7997** square kilometers [1].     \n\nTaipei is a densely populated urban areas which continued to increase from year to year as well as the surrounding cities. Taipei is one of the world\u2019s most expensive cities and crowded which make it harder for investors to do business around the city, unaffordability remains a serious issue. Most investors would prefer to have access to relevant information to invest in their preferable district at a lower real estate cost and the type of business that is more popular in this area. Obviously, most people are looking for lower price real estate value and less dense area as well. It is difficult for investor to get this information in one place.        \n\nAll these problems give an opportunity to create a map and information chart with real estate index marked in Taipei city and each district depending of the venue density.      \n### A.2. Data Description\nTo provide a possible solution you will need data listed below:\n*  I used **Foursquare API** to get the most common venues of given District of Taipei City [2].\n*  I found the Second-level Administrative Divisions of the Taipei City from Spatial Data Repository of NYU [3]. The .json file has coordinates of the all city of Taiwan. I cleaned the data and reduced it to city of Taipei [(Here is my .json file)]( https://github.com/augeord/Taipei/blob/master/map.geojson) where I used it to create choropleth map of Housing Sales Price Index of Taipei.\n*  I used **Google Map**, \u2018Search Nearby\u2019 option to get the center coordinates of each District. [4].\n*  I collected latest per square meter Housing Sales Price (HSP) Averages for each District of Taipei from housing retail web page [5] [(Here is my datas)](https://github.com/augeord/Taipei/blob/master/Data.csv)"
        },
        {
            "cell_type": "markdown",
            "metadata": {},
            "source": "## B. Methodology"
        },
        {
            "cell_type": "markdown",
            "metadata": {},
            "source": "### B.1. Creating data table and data pre-processing"
        },
        {
            "cell_type": "markdown",
            "metadata": {},
            "source": "As a database, I used GitHub repository in my study. My master data df which has the main components District, Average House Price, Latitude and Longitude informations of the city."
        },
        {
            "cell_type": "code",
            "execution_count": 1,
            "metadata": {},
            "outputs": [
                {
                    "data": {
                        "text/html": "<div>\n<style scoped>\n    .dataframe tbody tr th:only-of-type {\n        vertical-align: middle;\n    }\n\n    .dataframe tbody tr th {\n        vertical-align: top;\n    }\n\n    .dataframe thead th {\n        text-align: right;\n    }\n</style>\n<table border=\"1\" class=\"dataframe\">\n  <thead>\n    <tr style=\"text-align: right;\">\n      <th></th>\n      <th>District</th>\n      <th>Avg-housePrice</th>\n      <th>Latitude</th>\n      <th>Longitude</th>\n    </tr>\n  </thead>\n  <tbody>\n    <tr>\n      <th>0</th>\n      <td>Beitou</td>\n      <td>45026000</td>\n      <td>25.115176</td>\n      <td>121.515018</td>\n    </tr>\n    <tr>\n      <th>1</th>\n      <td>Daan</td>\n      <td>65344000</td>\n      <td>25.026158</td>\n      <td>121.542709</td>\n    </tr>\n    <tr>\n      <th>2</th>\n      <td>Datong</td>\n      <td>66177125</td>\n      <td>25.062724</td>\n      <td>121.511306</td>\n    </tr>\n    <tr>\n      <th>3</th>\n      <td>Nangang</td>\n      <td>43702353</td>\n      <td>25.031235</td>\n      <td>121.611195</td>\n    </tr>\n    <tr>\n      <th>4</th>\n      <td>Neihu</td>\n      <td>107481500</td>\n      <td>25.068942</td>\n      <td>121.590903</td>\n    </tr>\n  </tbody>\n</table>\n</div>",
                        "text/plain": "   District  Avg-housePrice   Latitude   Longitude\n0    Beitou        45026000  25.115176  121.515018\n1     Daan\u00a0        65344000  25.026158  121.542709\n2    Datong        66177125  25.062724  121.511306\n3  Nangang\u00a0        43702353  25.031235  121.611195\n4     Neihu       107481500  25.068942  121.590903"
                    },
                    "execution_count": 1,
                    "metadata": {},
                    "output_type": "execute_result"
                }
            ],
            "source": "import pandas as pd \nimport numpy as np\nimport requests\n\nurl = 'https://raw.githubusercontent.com/augeord/Peer-graded-Assignment-Segmenting-and-Clustering-Neighborhoods-in-Toronto/master/taipei_city.csv'\n\ndf = pd.read_csv(url)\n\ndf.head()"
        },
        {
            "cell_type": "markdown",
            "metadata": {},
            "source": "### B.2. Visual Map & Clustering in District"
        },
        {
            "cell_type": "markdown",
            "metadata": {},
            "source": "We need to import some external libraries for mapping and clustering of the datas and we will work on Forsquare API part, as well."
        },
        {
            "cell_type": "code",
            "execution_count": 2,
            "metadata": {},
            "outputs": [
                {
                    "name": "stdout",
                    "output_type": "stream",
                    "text": "Libraries imported.\n"
                }
            ],
            "source": "pd.set_option('display.max_columns', None)\npd.set_option('display.max_rows', None)\n\nimport json # library to handle JSON files\n\nfrom pandas.io.json import json_normalize # tranform JSON file into a pandas dataframe\n\n# Matplotlib and associated plotting modules\nimport matplotlib.cm as cm\nimport matplotlib.colors as colors\n\n# import k-means from clustering stage\nfrom sklearn.cluster import KMeans\n\nprint('Libraries imported.')"
        },
        {
            "cell_type": "markdown",
            "metadata": {},
            "source": "#### We will use folium library to visualize geographic details of Taipei and its Districts."
        },
        {
            "cell_type": "code",
            "execution_count": 3,
            "metadata": {},
            "outputs": [
                {
                    "name": "stdout",
                    "output_type": "stream",
                    "text": "Solving environment: done\n\n## Package Plan ##\n\n  environment location: /opt/conda/envs/Python36\n\n  added / updated specs: \n    - geopy\n\n\nThe following packages will be downloaded:\n\n    package                    |            build\n    ---------------------------|-----------------\n    certifi-2019.11.28         |   py36h9f0ad1d_1         149 KB  conda-forge\n    python_abi-3.6             |          1_cp36m           4 KB  conda-forge\n    ca-certificates-2019.11.28 |       hecc5488_0         145 KB  conda-forge\n    geopy-1.21.0               |             py_0          58 KB  conda-forge\n    openssl-1.1.1e             |       h516909a_0         2.1 MB  conda-forge\n    geographiclib-1.50         |             py_0          34 KB  conda-forge\n    ------------------------------------------------------------\n                                           Total:         2.5 MB\n\nThe following NEW packages will be INSTALLED:\n\n    geographiclib:   1.50-py_0         conda-forge\n    geopy:           1.21.0-py_0       conda-forge\n    python_abi:      3.6-1_cp36m       conda-forge\n\nThe following packages will be UPDATED:\n\n    ca-certificates: 2019.11.27-0                  --> 2019.11.28-hecc5488_0     conda-forge\n    certifi:         2019.11.28-py36_0             --> 2019.11.28-py36h9f0ad1d_1 conda-forge\n    openssl:         1.1.1d-h7b6447c_3             --> 1.1.1e-h516909a_0         conda-forge\n\n\nDownloading and Extracting Packages\ncertifi-2019.11.28   | 149 KB    | ##################################### | 100% \npython_abi-3.6       | 4 KB      | ##################################### | 100% \nca-certificates-2019 | 145 KB    | ##################################### | 100% \ngeopy-1.21.0         | 58 KB     | ##################################### | 100% \nopenssl-1.1.1e       | 2.1 MB    | ##################################### | 100% \ngeographiclib-1.50   | 34 KB     | ##################################### | 100% \nPreparing transaction: done\nVerifying transaction: done\nExecuting transaction: done\nSolving environment: done\n\n## Package Plan ##\n\n  environment location: /opt/conda/envs/Python36\n\n  added / updated specs: \n    - folium=0.7.0\n\n\nThe following packages will be downloaded:\n\n    package                    |            build\n    ---------------------------|-----------------\n    folium-0.7.0               |             py_0          54 KB  conda-forge\n    branca-0.4.0               |             py_0          26 KB  conda-forge\n    vincent-0.4.4              |             py_1          28 KB  conda-forge\n    altair-4.0.1               |             py_0         575 KB  conda-forge\n    ------------------------------------------------------------\n                                           Total:         682 KB\n\nThe following NEW packages will be INSTALLED:\n\n    altair:  4.0.1-py_0 conda-forge\n    branca:  0.4.0-py_0 conda-forge\n    folium:  0.7.0-py_0 conda-forge\n    vincent: 0.4.4-py_1 conda-forge\n\n\nDownloading and Extracting Packages\nfolium-0.7.0         | 54 KB     | ##################################### | 100% \nbranca-0.4.0         | 26 KB     | ##################################### | 100% \nvincent-0.4.4        | 28 KB     | ##################################### | 100% \naltair-4.0.1         | 575 KB    | ##################################### | 100% \nPreparing transaction: done\nVerifying transaction: done\nExecuting transaction: done\n"
                }
            ],
            "source": "!conda install -c conda-forge geopy --yes # uncomment this line if you haven't completed the Foursquare API lab\nfrom geopy.geocoders import Nominatim # convert an address into latitude and longitude values\n\n!conda install -c conda-forge folium=0.7.0 --yes # uncomment this line if you haven't completed the Foursquare API lab\nimport folium # map rendering library"
        },
        {
            "cell_type": "markdown",
            "metadata": {},
            "source": "#### I use geopy library to get the latitude and longitude values of Taipei"
        },
        {
            "cell_type": "code",
            "execution_count": 4,
            "metadata": {},
            "outputs": [
                {
                    "name": "stdout",
                    "output_type": "stream",
                    "text": "The geograpical coordinate of Taipei are 25.0375198, 121.5636796.\n"
                }
            ],
            "source": "address = 'Taipei, TP'\n\ngeolocator = Nominatim(user_agent=\"TP_explorer\")\nlocation = geolocator.geocode(address)\nlatitude = location.latitude\nlongitude = location.longitude\nprint('The geograpical coordinate of Taipei are {}, {}.'.format(latitude, longitude))"
        },
        {
            "cell_type": "markdown",
            "metadata": {},
            "source": "#### We can create a map of Taipei with Districts superimposed on top. We use latitude and longitude values to get the visual"
        },
        {
            "cell_type": "code",
            "execution_count": 5,
            "metadata": {},
            "outputs": [
                {
                    "data": {
                        "text/html": "<div style=\"width:100%;\"><div style=\"position:relative;width:100%;height:0;padding-bottom:60%;\"><iframe src=\"about:blank\" style=\"position:absolute;width:100%;height:100%;left:0;top:0;border:none !important;\" data-html=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 onload=\"this.contentDocument.open();this.contentDocument.write(atob(this.getAttribute('data-html')));this.contentDocument.close();\" allowfullscreen webkitallowfullscreen mozallowfullscreen></iframe></div></div>",
                        "text/plain": "<folium.folium.Map at 0x7ff6200a75f8>"
                    },
                    "execution_count": 5,
                    "metadata": {},
                    "output_type": "execute_result"
                }
            ],
            "source": "map_taipei = folium.Map(location=[latitude, longitude], zoom_start=9.5)\n\n# add markers to map\nfor lat, lng, district in zip(df['Latitude'], df['Longitude'], df['District']):\n    label = '{}'.format(district)\n    label = folium.Popup(label, parse_html=True)\n    folium.CircleMarker(\n        [lat, lng],\n        radius=5,\n        popup=label,\n        color='blue',\n        fill=True,\n        fill_color='#3186cc',\n        fill_opacity=0.7).add_to(map_taipei)  \n    \nmap_taipei"
        },
        {
            "cell_type": "markdown",
            "metadata": {},
            "source": "#### Let's utilizing the Foursquare API to explore the districts and segment them."
        },
        {
            "cell_type": "code",
            "execution_count": 6,
            "metadata": {},
            "outputs": [
                {
                    "name": "stdout",
                    "output_type": "stream",
                    "text": "Your credentails:\nCLIENT_ID: \nCLIENT_SECRET:\n"
                }
            ],
            "source": "CLIENT_ID = '' # my Foursquare ID\nCLIENT_SECRET = '' # my Foursquare Secret\nVERSION = '20180605' # Foursquare API version\n\nprint('Your credentails:')\nprint('CLIENT_ID: ' + CLIENT_ID)\nprint('CLIENT_SECRET:' + CLIENT_SECRET)"
        },
        {
            "cell_type": "markdown",
            "metadata": {},
            "source": "#### We will get the district's latitude and longitude values."
        },
        {
            "cell_type": "code",
            "execution_count": 7,
            "metadata": {},
            "outputs": [
                {
                    "name": "stdout",
                    "output_type": "stream",
                    "text": "Latitude and longitude values of Beitou are 25.115176, 121.515018.\n"
                }
            ],
            "source": "taipei_data = df\n\ndistrict_latitude = taipei_data.loc[0, 'Latitude'] # neighborhood latitude value\ndistrict_longitude = taipei_data.loc[0, 'Longitude'] # neighborhood longitude value\n\ndistrict_name = taipei_data.loc[0, 'District'] # neighborhood name\n\nprint('Latitude and longitude values of {} are {}, {}.'.format(district_name, \n                                                               district_latitude, \n                                                               district_longitude))"
        },
        {
            "cell_type": "markdown",
            "metadata": {},
            "source": "#### First, let's create the GET request URL. Name your URL url. I design the limit as 100 venue and the radius 750 meter for each district"
        },
        {
            "cell_type": "code",
            "execution_count": 8,
            "metadata": {},
            "outputs": [
                {
                    "data": {
                        "text/plain": "'https://api.foursquare.com/v2/venues/explore?&client_id=&client_secret=&v=20180605&ll=25.115176,121.515018&radius=750&limit=100'"
                    },
                    "execution_count": 8,
                    "metadata": {},
                    "output_type": "execute_result"
                }
            ],
            "source": "LIMIT = 100\nradius = 750\nurl = 'https://api.foursquare.com/v2/venues/explore?&client_id={}&client_secret={}&v={}&ll={},{}&radius={}&limit={}'.format(\n    CLIENT_ID, \n    CLIENT_SECRET, \n    VERSION, \n    district_latitude, \n    district_longitude, \n    radius, \n    LIMIT)\nurl"
        },
        {
            "cell_type": "code",
            "execution_count": 9,
            "metadata": {},
            "outputs": [],
            "source": "results = requests.get(url).json()"
        },
        {
            "cell_type": "markdown",
            "metadata": {},
            "source": "#### From the Foursquare lab, we know that all the information is in the items key. Before we proceed, let's borrow the get_category_type function from the Foursquare lab."
        },
        {
            "cell_type": "code",
            "execution_count": 10,
            "metadata": {},
            "outputs": [],
            "source": "# function that extracts the category of the venue\ndef get_category_type(row):\n    try:\n        categories_list = row['categories']\n    except:\n        categories_list = row['venue.categories']\n        \n    if len(categories_list) == 0:\n        return None\n    else:\n        return categories_list[0]['name']"
        },
        {
            "cell_type": "markdown",
            "metadata": {},
            "source": "#### Now we are ready to clean the json and structure it into a pandas dataframe"
        },
        {
            "cell_type": "code",
            "execution_count": 12,
            "metadata": {},
            "outputs": [
                {
                    "ename": "KeyError",
                    "evalue": "'groups'",
                    "output_type": "error",
                    "traceback": [
                        "\u001b[0;31m---------------------------------------------------------------------------\u001b[0m",
                        "\u001b[0;31mKeyError\u001b[0m                                  Traceback (most recent call last)",
                        "\u001b[0;32m<ipython-input-12-561c05f0fdd1>\u001b[0m in \u001b[0;36m<module>\u001b[0;34m\u001b[0m\n\u001b[0;32m----> 1\u001b[0;31m \u001b[0mvenues\u001b[0m \u001b[0;34m=\u001b[0m \u001b[0mresults\u001b[0m\u001b[0;34m[\u001b[0m\u001b[0;34m'response'\u001b[0m\u001b[0;34m]\u001b[0m\u001b[0;34m[\u001b[0m\u001b[0;34m'groups'\u001b[0m\u001b[0;34m]\u001b[0m\u001b[0;34m[\u001b[0m\u001b[0;36m0\u001b[0m\u001b[0;34m]\u001b[0m\u001b[0;34m[\u001b[0m\u001b[0;34m'items'\u001b[0m\u001b[0;34m]\u001b[0m\u001b[0;34m\u001b[0m\u001b[0;34m\u001b[0m\u001b[0m\n\u001b[0m\u001b[1;32m      2\u001b[0m \u001b[0;34m\u001b[0m\u001b[0m\n\u001b[1;32m      3\u001b[0m \u001b[0mnearby_venues\u001b[0m \u001b[0;34m=\u001b[0m \u001b[0mjson_normalize\u001b[0m\u001b[0;34m(\u001b[0m\u001b[0mvenues\u001b[0m\u001b[0;34m)\u001b[0m \u001b[0;31m# flatten JSON\u001b[0m\u001b[0;34m\u001b[0m\u001b[0;34m\u001b[0m\u001b[0m\n\u001b[1;32m      4\u001b[0m \u001b[0;34m\u001b[0m\u001b[0m\n\u001b[1;32m      5\u001b[0m \u001b[0;31m# filter columns\u001b[0m\u001b[0;34m\u001b[0m\u001b[0;34m\u001b[0m\u001b[0;34m\u001b[0m\u001b[0m\n",
                        "\u001b[0;31mKeyError\u001b[0m: 'groups'"
                    ]
                }
            ],
            "source": "venues = results['response']['groups'][0]['items']\n    \nnearby_venues = json_normalize(venues) # flatten JSON\n\n# filter columns\nfiltered_columns = ['venue.name', 'venue.categories', 'venue.location.lat', 'venue.location.lng']\nnearby_venues =nearby_venues.loc[:, filtered_columns]\n\n# filter the category for each row\nnearby_venues['venue.categories'] = nearby_venues.apply(get_category_type, axis=1)\n\n# clean columns\nnearby_venues.columns = [col.split(\".\")[-1] for col in nearby_venues.columns]\n\nnearby_venues.head()"
        },
        {
            "cell_type": "markdown",
            "metadata": {},
            "source": "#### And how many venues were returned by Foursquare?"
        },
        {
            "cell_type": "code",
            "execution_count": null,
            "metadata": {},
            "outputs": [],
            "source": "print('{} venues were returned by Foursquare.'.format(nearby_venues.shape[0]))"
        },
        {
            "cell_type": "markdown",
            "metadata": {},
            "source": "#### B.3. Exploring Districts in Taipei"
        },
        {
            "cell_type": "markdown",
            "metadata": {},
            "source": "##### Let's create a function to get all the boroughs in Istanbul"
        },
        {
            "cell_type": "code",
            "execution_count": null,
            "metadata": {},
            "outputs": [],
            "source": "def getNearbyVenues(names, latitudes, longitudes, radius=500, LIMIT=100):\n    \n    venues_list=[]\n    for name, lat, lng in zip(names, latitudes, longitudes):\n        print(name)\n            \n        # create the API request URL\n        url = 'https://api.foursquare.com/v2/venues/explore?&client_id={}&client_secret={}&v={}&ll={},{}&radius={}&limit={}'.format(\n            CLIENT_ID, \n            CLIENT_SECRET, \n            VERSION, \n            lat, \n            lng, \n            radius, \n            LIMIT)\n            \n        # make the GET request\n        results = requests.get(url).json()[\"response\"]['groups'][0]['items']\n        \n        # return only relevant information for each nearby venue\n        venues_list.append([(\n            name, \n            lat, \n            lng, \n            v['venue']['name'], \n            v['venue']['location']['lat'], \n            v['venue']['location']['lng'],  \n            v['venue']['categories'][0]['name']) for v in results])\n\n    nearby_venues = pd.DataFrame([item for venue_list in venues_list for item in venue_list])\n    nearby_venues.columns = ['District', \n                  'District Latitude', \n                  'District Longitude', \n                  'Venue', \n                  'Venue Latitude', \n                  'Venue Longitude', \n                  'Venue Category']\n    \n    return(nearby_venues)"
        },
        {
            "cell_type": "markdown",
            "metadata": {},
            "source": "##### Now we can run the above function on each district and create a new dataframe called taipei_venues"
        },
        {
            "cell_type": "code",
            "execution_count": null,
            "metadata": {},
            "outputs": [],
            "source": "taipei_venues = getNearbyVenues(names=taipei_data['District'],\n                                   latitudes=taipei_data['Latitude'],\n                                   longitudes=taipei_data['Longitude']\n                                  )"
        },
        {
            "cell_type": "markdown",
            "metadata": {},
            "source": "##### Let's check the size of the resulting dataframe"
        },
        {
            "cell_type": "code",
            "execution_count": null,
            "metadata": {},
            "outputs": [],
            "source": "print(taipei_venues.shape)\ntaipei_venues.head()"
        },
        {
            "cell_type": "markdown",
            "metadata": {},
            "source": "##### Let's check how many venues were returned for each district and sort them in count"
        },
        {
            "cell_type": "code",
            "execution_count": null,
            "metadata": {},
            "outputs": [],
            "source": "summary = taipei_venues.groupby('District').count().reset_index()\nsummary['Count'] = summary['Venue']\nsummary = summary.drop(['District Latitude', 'District Longitude', 'Venue', 'Venue Latitude', 'Venue Longitude','Venue Category'], axis=1)\nsummary = summary.sort_values('Count').reset_index(drop=True)\nsummary.head()"
        },
        {
            "cell_type": "markdown",
            "metadata": {},
            "source": "##### We can create a bar chart and analyze the big picture of it"
        },
        {
            "cell_type": "code",
            "execution_count": null,
            "metadata": {},
            "outputs": [],
            "source": "import matplotlib.pyplot as plt; plt.rcdefaults()\nimport numpy as np\nimport matplotlib.pyplot as plt\n \nobjects = summary.District\ny_pos = np.arange(len(objects))\nperformance = summary.Count\n\nplt.bar(y_pos, performance, align='center', alpha=0.4)\nplt.xticks(y_pos, objects)\nplt.ylabel('Venue')\nplt.title('Total Number of Venue in District')\nplt.xticks(rotation=90)\n\nplt.show()"
        },
        {
            "cell_type": "markdown",
            "metadata": {},
            "source": "From the graph it\u2019s clearly show that all the districts are bellow 40 venues in our given coordinates with latitude and longitude. From this graph not all the possible results in each district are process. \n\nIt\u2019s all depends on a given latitude and longitude data available, it\u2019s boils down on a single latitude and longitude pair for each borough. For future studies we can look for more data of neighborhood with more latitude and longitude information. \n"
        },
        {
            "cell_type": "markdown",
            "metadata": {},
            "source": "##### Let's find out how many unique categories can be curated from all the returned venues"
        },
        {
            "cell_type": "code",
            "execution_count": null,
            "metadata": {},
            "outputs": [],
            "source": "print('There are {} uniques categories.'.format(len(taipei_venues['Venue Category'].unique())))"
        },
        {
            "cell_type": "markdown",
            "metadata": {},
            "source": "#### B.4. Analyzing Each Borough"
        },
        {
            "cell_type": "markdown",
            "metadata": {},
            "source": "##### We will anayze each district with venues informations"
        },
        {
            "cell_type": "code",
            "execution_count": null,
            "metadata": {},
            "outputs": [],
            "source": "# one hot encoding\ntaipei_onehot = pd.get_dummies(taipei_venues[['Venue Category']], prefix=\"\", prefix_sep=\"\")\n\n# add neighborhood column back to dataframe\ntaipei_onehot['District'] = taipei_venues['District'] \n\n# move neighborhood column to the first column\nlist_column = taipei_onehot.columns.tolist()\nnumber_column = int(list_column.index('District'))\nlist_column = [list_column[number_column]] + list_column[:number_column] + list_column[number_column+1:] \ntaipei_onehot = taipei_onehot[list_column]\n\ntaipei_onehot.head()"
        },
        {
            "cell_type": "markdown",
            "metadata": {},
            "source": "#### Next, let's group rows by district and by taking the mean of the frequency of occurrence of each category"
        },
        {
            "cell_type": "code",
            "execution_count": null,
            "metadata": {},
            "outputs": [],
            "source": "taipei_grouped = taipei_onehot.groupby('District').mean().reset_index()\ntaipei_grouped.head()"
        },
        {
            "cell_type": "markdown",
            "metadata": {},
            "source": "#### Let's put that into a pandas dataframe\nFirst, let's write a function to sort the venues in descending order."
        },
        {
            "cell_type": "code",
            "execution_count": null,
            "metadata": {},
            "outputs": [],
            "source": "def return_most_common_venues(row, num_top_venues):\n    row_categories = row.iloc[1:]\n    row_categories_sorted = row_categories.sort_values(ascending=False)\n    \n    return row_categories_sorted.index.values[0:num_top_venues]"
        },
        {
            "cell_type": "markdown",
            "metadata": {},
            "source": "### Now let's create the new dataframe and display the top 10 venues for each neighborhood."
        },
        {
            "cell_type": "code",
            "execution_count": null,
            "metadata": {},
            "outputs": [],
            "source": "num_top_venues = 10\n\nindicators = ['st', 'nd', 'rd']\n\n# create columns according to number of top venues\ncolumns = ['District']\nfor ind in np.arange(num_top_venues):\n    try:\n        columns.append('{}{} Most Common Venue'.format(ind+1, indicators[ind]))\n    except:\n        columns.append('{}th Most Common Venue'.format(ind+1))\n\n# create a new dataframe\ndistricts_venues_sorted = pd.DataFrame(columns=columns)\ndistricts_venues_sorted['District'] = taipei_grouped['District']\n\nfor ind in np.arange(taipei_grouped.shape[0]):\n    districts_venues_sorted.iloc[ind, 1:] = return_most_common_venues(taipei_grouped.iloc[ind, :], num_top_venues)\n\ndistricts_venues_sorted.head()"
        },
        {
            "cell_type": "markdown",
            "metadata": {},
            "source": "### B.5. Cluster of Boroughs\nK-Means algorithm is one of the most common cluster method of unsupervised learning. I will use K-Means algorithm for my study in this project.\n\nFirst, I will run K-Means to cluster the districts into 3 clusters because when I analyze the K-Means with elbow method it ensured me the 3 degree for optimum k of the K-Means"
        },
        {
            "cell_type": "code",
            "execution_count": null,
            "metadata": {},
            "outputs": [],
            "source": "kclusters = 3\n\ntaipei_grouped_clustering = taipei_grouped.drop('District', 1)\n\n# run k-means clustering\nkmeans = KMeans(n_clusters=kclusters, random_state=0).fit(taipei_grouped_clustering)\n\n# check cluster labels generated for each row in the dataframe\nlabels = kmeans.labels_\nlabels"
        },
        {
            "cell_type": "code",
            "execution_count": null,
            "metadata": {},
            "outputs": [],
            "source": "from scipy.spatial.distance import cdist\n\ndistortions = []\nK = range(1,10)\nfor k in K:\n    kmeanModel = KMeans(n_clusters=k, random_state=0).fit(taipei_grouped_clustering)\n    #kmeanModel.fit(taipei_grouped_clustering)\n    distortions.append(sum(np.min(cdist(taipei_grouped_clustering, kmeanModel.cluster_centers_, 'canberra'), axis=1)) / taipei_grouped_clustering.shape[0])\n\n#There are different metric distance function for spatial distance. \n#I choose correlation instaed of euclidean because the canberra function gives me more clear view of elbow break point.\n\n# Plot the elbow\nplt.plot(K, distortions, 'bx-')\nplt.xlabel('k')\nplt.ylabel('Distortion')\nplt.title('The Elbow Method showing the optimal k')\nplt.show()"
        },
        {
            "cell_type": "markdown",
            "metadata": {},
            "source": "##### Let's create a new dataframe that includes the cluster as well as the top 10 venues for each neighborhood."
        },
        {
            "cell_type": "code",
            "execution_count": null,
            "metadata": {},
            "outputs": [],
            "source": "taipei_merged = taipei_data\n\n# add clustering labels\ntaipei_merged['Cluster Labels'] = kmeans.labels_\n\n# merge taipei_grouped with taipei_data to add latitude/longitude for each district\ntaipei_merged = taipei_merged.join(districts_venues_sorted.set_index('District'), on='District')\n\ntaipei_merged.head() # check the last columns!"
        },
        {
            "cell_type": "markdown",
            "metadata": {},
            "source": "##### We can also estimate the number of 1st Most Common Venue in each cluster.Thus, we can create a bar chart which may help us to find proper label names for each cluster."
        },
        {
            "cell_type": "code",
            "execution_count": null,
            "metadata": {},
            "outputs": [],
            "source": "count_venue = taipei_merged\ncount_venue = count_venue.drop(['District','Avg-housePrice', 'Latitude', 'Longitude'], axis=1)\ncount_venue = count_venue.groupby(['Cluster Labels','1st Most Common Venue']).size().reset_index(name='Counts')\n\n#we can transpose it to plot bar chart\ncv_cluster = count_venue.pivot(index='Cluster Labels', columns='1st Most Common Venue', values='Counts')\ncv_cluster = cv_cluster.fillna(0).astype(int).reset_index(drop=True)\ncv_cluster"
        },
        {
            "cell_type": "code",
            "execution_count": null,
            "metadata": {},
            "outputs": [],
            "source": "#creating a bar chart of \"Number of Venues in Each Cluster\"\nframe=cv_cluster.plot(kind='bar',figsize=(20,8),width = 0.8)\n\nplt.legend(labels=cv_cluster.columns,fontsize= 14)\nplt.title(\"Number of Venues in Each Cluster\",fontsize= 16)\nplt.xticks(fontsize=14)\nplt.xticks(rotation=0)\nplt.xlabel('Number of Venue', fontsize=14)\nplt.ylabel('Clusters', fontsize=14)"
        },
        {
            "cell_type": "markdown",
            "metadata": {},
            "source": "When we examine above graph we can label each cluster as follows:\n\n* Cluster 0 : \"Cafe Venues\"  \n* Cluster 1 : \"Multiple Social Venues\"  \n* Cluster 2 : \"Accommodation & Intensive Cafe Venues\"  \n\n##### We can now assign those new labels to existing label of clusters:"
        },
        {
            "cell_type": "code",
            "execution_count": null,
            "metadata": {},
            "outputs": [],
            "source": "Cluster_labels = {'Clusters': [0,1,2], 'Labels': [\"Cafe Venues\",\"Multiple Social Venues\",\"Accommodation & Intensive Cafe Venues\"]}\nCluster_labels = pd.DataFrame(data=Cluster_labels)\nCluster_labels"
        },
        {
            "cell_type": "markdown",
            "metadata": {},
            "source": "#### Let's analyze the housing sales prices for per square meter in specific range. Thus we can create new labels which involve pricing features, as well."
        },
        {
            "cell_type": "code",
            "execution_count": null,
            "metadata": {},
            "outputs": [],
            "source": "data_process = df.sort_values('Avg-housePrice').reset_index(drop=True)\ndata_process = data_process.drop(['Latitude', 'Longitude'], axis=1)\ndata_process.head()"
        },
        {
            "cell_type": "markdown",
            "metadata": {},
            "source": "#### We can examine that what is the frequency of housing sales prices in different ranges. Thus, histogram can help to visualization"
        },
        {
            "cell_type": "code",
            "execution_count": null,
            "metadata": {},
            "outputs": [],
            "source": "num_bins = 5\nn, bins, patches = plt.hist(data_process['Avg-housePrice'], num_bins, facecolor='blue', alpha=0.5)\nplt.title(\"Average Housing Sales Prices in Range\",fontsize= 16)\nplt.xticks(fontsize=14)\nplt.xticks(rotation=0)\nplt.xlabel('Average Housing Prices (m2/sq.)', fontsize=14)\nplt.ylabel('Counts', fontsize=14)\nplt.show()"
        },
        {
            "cell_type": "markdown",
            "metadata": {},
            "source": "#### As it seems in above histogram, we can define the ranges as below:\n\n* 50000000 AHP : \"Low Level HSP\"\n* 75000000-100000000 AHP : \"Mid Level HSP\"\n* '>' 100000000 AHP : \"High Level HSP\"\n    \nIn this case, we can create **\"Level_labels\"** with those levels."
        },
        {
            "cell_type": "code",
            "execution_count": null,
            "metadata": {},
            "outputs": [],
            "source": "level = []\nfor i in range(0,len(data_process)):\n    if (data_process['Avg-housePrice'][i] < 50000000):\n        level.append(\"Low Level HSP\")\n    elif (data_process['Avg-housePrice'][i] >= 75000000 and data_process['Avg-housePrice'][i] < 100000000):\n        level.append(\"Mid Level HSP\")\n    else:\n        level.append(\"High Level HSP\")   \n\ndata_process['Level_labels'] = level\ndata_process.head()"
        },
        {
            "cell_type": "markdown",
            "metadata": {},
            "source": "One of the goal was also show the number of top 3 venues information for each district on the map. Then, I grouped each district by the number of top 3 venues and I combined those informations in Join column."
        },
        {
            "cell_type": "code",
            "execution_count": null,
            "metadata": {},
            "outputs": [],
            "source": "top3 = taipei_venues.groupby(['District','Venue Category']).size().reset_index(name='Counts')\ntop3 = top3.sort_values(['District','Counts'],ascending=False).groupby('District').head(3).reset_index(drop=True)\n\ntop3['Join'] = top3['Counts'].map(str) + \" \" + top3['Venue Category']\ntop3 = top3.groupby(['District'])['Join'].apply(\", \".join).reset_index()\n\ntop3.head()"
        },
        {
            "cell_type": "markdown",
            "metadata": {},
            "source": "## C. Results\n\n### C.1. Main table with results\n\n#### Let's merge those new variables with related cluster informations in our main Taipei_merged table."
        },
        {
            "cell_type": "code",
            "execution_count": null,
            "metadata": {},
            "outputs": [],
            "source": "import numpy as np\n\nresult = pd.merge(taipei_merged, \n                    top3[['District', 'Join']],\n                    left_on = 'District',\n                    right_on = 'District',\n                    how = 'left')\nresult= pd.merge(result, \n                    Cluster_labels[['Clusters', 'Labels']],\n                    left_on = 'Cluster Labels',\n                    right_on = 'Clusters',\n                    how = 'left')\nresult = pd.merge(result, \n                    data_process[['District', 'Level_labels']],\n                    left_on = 'District',\n                    right_on = 'District',\n                    how = 'left')\n\nresult = result.drop(['Clusters'], axis=1)\nresult.head(3)"
        },
        {
            "cell_type": "markdown",
            "metadata": {},
            "source": "#### You can now see Join, Labels and Level_labels columns as the last three ones in above table\n\n## C.2. Map of Cluster Results\u00b6\n\nFinally, let's visualize the resulting clusters"
        },
        {
            "cell_type": "code",
            "execution_count": null,
            "metadata": {},
            "outputs": [],
            "source": "# create map\nmap_clusters = folium.Map(location=[latitude, longitude], zoom_start=9.5)\n\n# set color scheme for the clusters\nx = np.arange(kclusters)\nys = [i+x+(i*x)**2 for i in range(kclusters)]\ncolors_array = cm.rainbow(np.linspace(0, 1, len(ys)))\nrainbow = [colors.rgb2hex(i) for i in colors_array]\n\n# add markers to the map\nmarkers_colors = []\nfor lat, lon, poi, cluster, join, cluster_number, label in zip(result['Latitude'], result['Longitude'], result['District'], result['Labels'], result['Join'], result['Cluster Labels'], result['Level_labels']):\n    label = folium.Popup(str(poi) + \" / \" + str(cluster) + \"-\" + str(label) + \" / \" + str(join), parse_html=True)\n    folium.CircleMarker(\n        [lat, lon],\n        radius=5,\n        color= rainbow[cluster_number-1],\n        popup=label,\n        fill_color = rainbow[cluster_number-1],\n        fill_opacity=1).add_to(map_clusters)\n       \nmap_clusters"
        },
        {
            "cell_type": "markdown",
            "metadata": {},
            "source": "## C.3. Map of Housing Sales Prices\nAnother goal of this project was to visualize the Average Housing Sale Prices per square meter with chloropleth style map. A json file of Second-lever Administrative Divisions of Taiwan from Spatial Data Repository of NYU. I cleaned the json file and pull out only Taipei city. \n\nHere is the final version of json file on GitHub link:\n"
        },
        {
            "cell_type": "code",
            "execution_count": null,
            "metadata": {},
            "outputs": [],
            "source": "!wget --quiet https://raw.githubusercontent.com/augeord/Peer-graded-Assignment-Segmenting-and-Clustering-Neighborhoods-in-Toronto/master/map.geojson\n    \n#https://geo.nyu.edu/download/file/stanford-nj696zj1674-geojson.json    \nprint('GeoJSON file downloaded!')\n\ntaipei_geo = r'map.geojson'\n\n#San Francisco La, Lo\nlatitude = 25.0329694\nlongitude = 121.56541770000001\n\n# display San-Francisco\ntaipei_map = folium.Map(location=[latitude, longitude], zoom_start=10)"
        },
        {
            "cell_type": "markdown",
            "metadata": {},
            "source": "In final section, I created choropleth map which also has the below informations for each district:\n\n* District name,\n* Cluster name,\n* Housing Sales Price (HSP) Levels,\n* Top 3 number of venue"
        },
        {
            "cell_type": "code",
            "execution_count": null,
            "metadata": {},
            "outputs": [],
            "source": "taipei_map.choropleth(\n    geo_data=taipei_geo,\n    data=taipei_data,\n    columns=['District','Avg-housePrice'],\n    key_on='feature.properties.name',\n    fill_color='YlOrRd', \n    fill_opacity=0.7, \n    line_opacity=0.2,\n    legend_name='House Sales Price in Taipei',\n    highlight=True\n)\n\nmarkers_colors = []\nfor lat, lon, poi, cluster, join, cluster_number, label in zip(result['Latitude'], result['Longitude'], result['District'], result['Labels'], result['Join'], result['Cluster Labels'], result['Level_labels']):\n    label = folium.Popup(str(poi) + \" / \" + str(cluster) + \"-\" + str(label) + \" / \" + str(join), parse_html=True)\n    folium.CircleMarker(\n        [lat, lon],\n        radius=7,\n        popup=label,\n        color= rainbow[cluster_number-1],\n        fill=True,\n        fill_color= rainbow[cluster_number-1],\n        fill_opacity=1).add_to(taipei_map)\n   \n\n\n#display map\ntaipei_map"
        },
        {
            "cell_type": "code",
            "execution_count": null,
            "metadata": {},
            "outputs": [],
            "source": ""
        }
    ],
    "metadata": {
        "kernelspec": {
            "display_name": "Python 3.6",
            "language": "python",
            "name": "python3"
        },
        "language_info": {
            "codemirror_mode": {
                "name": "ipython",
                "version": 3
            },
            "file_extension": ".py",
            "mimetype": "text/x-python",
            "name": "python",
            "nbconvert_exporter": "python",
            "pygments_lexer": "ipython3",
            "version": "3.6.9"
        }
    },
    "nbformat": 4,
    "nbformat_minor": 1
}